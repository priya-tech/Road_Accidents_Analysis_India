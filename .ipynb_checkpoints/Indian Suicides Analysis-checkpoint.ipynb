{
 "cells": [
  {
   "cell_type": "markdown",
   "metadata": {},
   "source": [
    "# Suicide statistics analysis of Indian states (2001 - 2012)"
   ]
  },
  {
   "cell_type": "code",
   "execution_count": 121,
   "metadata": {},
   "outputs": [
    {
     "data": {
      "text/html": [
       "        <script type=\"text/javascript\">\n",
       "        window.PlotlyConfig = {MathJaxConfig: 'local'};\n",
       "        if (window.MathJax) {MathJax.Hub.Config({SVG: {font: \"STIX-Web\"}});}\n",
       "        if (typeof require !== 'undefined') {\n",
       "        require.undef(\"plotly\");\n",
       "        requirejs.config({\n",
       "            paths: {\n",
       "                'plotly': ['https://cdn.plot.ly/plotly-latest.min']\n",
       "            }\n",
       "        });\n",
       "        require(['plotly'], function(Plotly) {\n",
       "            window._Plotly = Plotly;\n",
       "        });\n",
       "        }\n",
       "        </script>\n",
       "        "
      ]
     },
     "metadata": {},
     "output_type": "display_data"
    }
   ],
   "source": [
    "import pandas as pd\n",
    "import plotly.offline as pyo\n",
    "import plotly.graph_objs as go\n",
    "import numpy as np\n",
    "from IPython.display import IFrame\n",
    "pyo.init_notebook_mode(connected=True)"
   ]
  },
  {
   "cell_type": "markdown",
   "metadata": {},
   "source": [
    "## Importing dataset and checking its dimensions and data"
   ]
  },
  {
   "cell_type": "code",
   "execution_count": 122,
   "metadata": {},
   "outputs": [
    {
     "name": "stdout",
     "output_type": "stream",
     "text": [
      "(236583, 7)\n"
     ]
    },
    {
     "data": {
      "text/html": [
       "<div>\n",
       "<style scoped>\n",
       "    .dataframe tbody tr th:only-of-type {\n",
       "        vertical-align: middle;\n",
       "    }\n",
       "\n",
       "    .dataframe tbody tr th {\n",
       "        vertical-align: top;\n",
       "    }\n",
       "\n",
       "    .dataframe thead th {\n",
       "        text-align: right;\n",
       "    }\n",
       "</style>\n",
       "<table border=\"1\" class=\"dataframe\">\n",
       "  <thead>\n",
       "    <tr style=\"text-align: right;\">\n",
       "      <th></th>\n",
       "      <th>State</th>\n",
       "      <th>Year</th>\n",
       "      <th>Type_code</th>\n",
       "      <th>Type</th>\n",
       "      <th>Gender</th>\n",
       "      <th>Age_group</th>\n",
       "      <th>Total</th>\n",
       "    </tr>\n",
       "  </thead>\n",
       "  <tbody>\n",
       "    <tr>\n",
       "      <th>0</th>\n",
       "      <td>A &amp; N Islands</td>\n",
       "      <td>2001</td>\n",
       "      <td>Causes</td>\n",
       "      <td>Illness (Aids/STD)</td>\n",
       "      <td>Female</td>\n",
       "      <td>0-14</td>\n",
       "      <td>0</td>\n",
       "    </tr>\n",
       "    <tr>\n",
       "      <th>1</th>\n",
       "      <td>A &amp; N Islands</td>\n",
       "      <td>2001</td>\n",
       "      <td>Causes</td>\n",
       "      <td>Bankruptcy or Sudden change in Economic</td>\n",
       "      <td>Female</td>\n",
       "      <td>0-14</td>\n",
       "      <td>0</td>\n",
       "    </tr>\n",
       "    <tr>\n",
       "      <th>2</th>\n",
       "      <td>A &amp; N Islands</td>\n",
       "      <td>2001</td>\n",
       "      <td>Causes</td>\n",
       "      <td>Cancellation/Non-Settlement of Marriage</td>\n",
       "      <td>Female</td>\n",
       "      <td>0-14</td>\n",
       "      <td>0</td>\n",
       "    </tr>\n",
       "    <tr>\n",
       "      <th>3</th>\n",
       "      <td>A &amp; N Islands</td>\n",
       "      <td>2001</td>\n",
       "      <td>Causes</td>\n",
       "      <td>Physical Abuse (Rape/Incest Etc.)</td>\n",
       "      <td>Female</td>\n",
       "      <td>0-14</td>\n",
       "      <td>0</td>\n",
       "    </tr>\n",
       "    <tr>\n",
       "      <th>4</th>\n",
       "      <td>A &amp; N Islands</td>\n",
       "      <td>2001</td>\n",
       "      <td>Causes</td>\n",
       "      <td>Dowry Dispute</td>\n",
       "      <td>Female</td>\n",
       "      <td>0-14</td>\n",
       "      <td>0</td>\n",
       "    </tr>\n",
       "  </tbody>\n",
       "</table>\n",
       "</div>"
      ],
      "text/plain": [
       "           State  Year Type_code                                     Type  \\\n",
       "0  A & N Islands  2001    Causes                       Illness (Aids/STD)   \n",
       "1  A & N Islands  2001    Causes  Bankruptcy or Sudden change in Economic   \n",
       "2  A & N Islands  2001    Causes  Cancellation/Non-Settlement of Marriage   \n",
       "3  A & N Islands  2001    Causes        Physical Abuse (Rape/Incest Etc.)   \n",
       "4  A & N Islands  2001    Causes                            Dowry Dispute   \n",
       "\n",
       "   Gender Age_group  Total  \n",
       "0  Female      0-14      0  \n",
       "1  Female      0-14      0  \n",
       "2  Female      0-14      0  \n",
       "3  Female      0-14      0  \n",
       "4  Female      0-14      0  "
      ]
     },
     "execution_count": 122,
     "metadata": {},
     "output_type": "execute_result"
    }
   ],
   "source": [
    "# Importing the data (csv file) into dataframe\n",
    "df = pd.read_csv(\"Suicides in India 2001-2012 Updated.csv\")\n",
    "print(df.shape)\n",
    "df.head()"
   ]
  },
  {
   "cell_type": "code",
   "execution_count": 123,
   "metadata": {},
   "outputs": [],
   "source": [
    "# Calculating total suicide count for each state\n",
    "total_suicides = df.groupby('State').sum()\n",
    "total_suicides.drop('Year',axis=1,inplace=True)"
   ]
  },
  {
   "cell_type": "code",
   "execution_count": 124,
   "metadata": {},
   "outputs": [],
   "source": [
    "count = list(total_suicides['Total'])"
   ]
  },
  {
   "cell_type": "code",
   "execution_count": 125,
   "metadata": {},
   "outputs": [],
   "source": [
    "states = list(total_suicides.index)"
   ]
  },
  {
   "cell_type": "code",
   "execution_count": 126,
   "metadata": {},
   "outputs": [],
   "source": [
    "import random\n",
    "colors = {}\n",
    "f = 0\n",
    "# Assigning random color codes for each state\n",
    "for i in states:\n",
    "    if f == 0:\n",
    "        colors[i] = 'rgb('+str(random.randint(10,125))+','+str(random.randint(128,200))+','+str(random.randint(0,15))+')'\n",
    "        f = 1\n",
    "    else:\n",
    "        colors[i] = 'rgb('+str(random.randint(10,125))+','+str(random.randint(128,190))+','+str(random.randint(192,255))+')'\n",
    "        f = 0"
   ]
  },
  {
   "cell_type": "code",
   "execution_count": 127,
   "metadata": {},
   "outputs": [
    {
     "data": {
      "application/vnd.plotly.v1+json": {
       "config": {
        "linkText": "Export to plot.ly",
        "plotlyServerURL": "https://plot.ly",
        "showLink": false
       },
       "data": [
        {
         "marker": {
          "color": [
           "rgb(61,156,10)",
           "rgb(50,139,223)",
           "rgb(19,156,7)",
           "rgb(65,162,239)",
           "rgb(13,182,11)",
           "rgb(105,134,230)",
           "rgb(70,157,0)",
           "rgb(89,184,228)",
           "rgb(33,165,13)",
           "rgb(18,175,205)",
           "rgb(56,177,15)",
           "rgb(20,156,202)",
           "rgb(75,165,2)",
           "rgb(30,187,196)",
           "rgb(99,176,5)",
           "rgb(32,180,241)",
           "rgb(15,145,11)",
           "rgb(54,128,244)",
           "rgb(112,156,7)",
           "rgb(100,137,238)",
           "rgb(84,143,8)",
           "rgb(100,181,212)",
           "rgb(87,145,7)",
           "rgb(73,138,201)",
           "rgb(15,186,9)",
           "rgb(34,136,195)",
           "rgb(92,168,10)",
           "rgb(14,176,199)",
           "rgb(22,167,14)",
           "rgb(119,161,216)",
           "rgb(25,137,5)",
           "rgb(86,149,238)",
           "rgb(87,137,11)",
           "rgb(39,129,193)",
           "rgb(83,190,4)"
          ]
         },
         "name": "Suicides count in Indian States",
         "type": "bar",
         "uid": "3cb51f9d-4b6c-4c97-bd65-308408759e20",
         "x": [
          "A & N Islands",
          "Andhra Pradesh",
          "Arunachal Pradesh",
          "Assam",
          "Bihar",
          "Chandigarh",
          "Chhattisgarh",
          "D & N Haveli",
          "Daman & Diu",
          "Delhi (Ut)",
          "Goa",
          "Gujarat",
          "Haryana",
          "Himachal Pradesh",
          "Jammu & Kashmir",
          "Jharkhand",
          "Karnataka",
          "Kerala",
          "Lakshadweep",
          "Madhya Pradesh",
          "Maharashtra",
          "Manipur",
          "Meghalaya",
          "Mizoram",
          "Nagaland",
          "Odisha",
          "Puducherry",
          "Punjab",
          "Rajasthan",
          "Sikkim",
          "Tamil Nadu",
          "Tripura",
          "Uttar Pradesh",
          "Uttarakhand",
          "West Bengal"
         ],
         "y": [
          8109,
          814059,
          6633,
          172276,
          46214,
          5164,
          302354,
          3430,
          1391,
          84272,
          17363,
          330858,
          147176,
          26562,
          14821,
          49720,
          734825,
          538946,
          50,
          451535,
          901945,
          2102,
          5415,
          4154,
          1728,
          267234,
          32144,
          46350,
          255134,
          9606,
          818691,
          45965,
          233352,
          18496,
          849936
         ]
        }
       ],
       "layout": {
        "xaxis": {
         "automargin": true,
         "title": {
          "text": "Indian States"
         }
        },
        "yaxis": {
         "automargin": true,
         "title": {
          "text": "Suicides count"
         }
        }
       }
      },
      "text/html": [
       "<div>\n",
       "        \n",
       "        \n",
       "            <div id=\"d6446f00-5f68-4b41-a837-e054b0638910\" class=\"plotly-graph-div\" style=\"height:525px; width:100%;\"></div>\n",
       "            <script type=\"text/javascript\">\n",
       "                require([\"plotly\"], function(Plotly) {\n",
       "                    window.PLOTLYENV=window.PLOTLYENV || {};\n",
       "                    window.PLOTLYENV.BASE_URL='https://plot.ly';\n",
       "                    \n",
       "                if (document.getElementById(\"d6446f00-5f68-4b41-a837-e054b0638910\")) {\n",
       "                    Plotly.newPlot(\n",
       "                        'd6446f00-5f68-4b41-a837-e054b0638910',\n",
       "                        [{\"marker\": {\"color\": [\"rgb(61,156,10)\", \"rgb(50,139,223)\", \"rgb(19,156,7)\", \"rgb(65,162,239)\", \"rgb(13,182,11)\", \"rgb(105,134,230)\", \"rgb(70,157,0)\", \"rgb(89,184,228)\", \"rgb(33,165,13)\", \"rgb(18,175,205)\", \"rgb(56,177,15)\", \"rgb(20,156,202)\", \"rgb(75,165,2)\", \"rgb(30,187,196)\", \"rgb(99,176,5)\", \"rgb(32,180,241)\", \"rgb(15,145,11)\", \"rgb(54,128,244)\", \"rgb(112,156,7)\", \"rgb(100,137,238)\", \"rgb(84,143,8)\", \"rgb(100,181,212)\", \"rgb(87,145,7)\", \"rgb(73,138,201)\", \"rgb(15,186,9)\", \"rgb(34,136,195)\", \"rgb(92,168,10)\", \"rgb(14,176,199)\", \"rgb(22,167,14)\", \"rgb(119,161,216)\", \"rgb(25,137,5)\", \"rgb(86,149,238)\", \"rgb(87,137,11)\", \"rgb(39,129,193)\", \"rgb(83,190,4)\"]}, \"name\": \"Suicides count in Indian States\", \"type\": \"bar\", \"uid\": \"3cb51f9d-4b6c-4c97-bd65-308408759e20\", \"x\": [\"A & N Islands\", \"Andhra Pradesh\", \"Arunachal Pradesh\", \"Assam\", \"Bihar\", \"Chandigarh\", \"Chhattisgarh\", \"D & N Haveli\", \"Daman & Diu\", \"Delhi (Ut)\", \"Goa\", \"Gujarat\", \"Haryana\", \"Himachal Pradesh\", \"Jammu & Kashmir\", \"Jharkhand\", \"Karnataka\", \"Kerala\", \"Lakshadweep\", \"Madhya Pradesh\", \"Maharashtra\", \"Manipur\", \"Meghalaya\", \"Mizoram\", \"Nagaland\", \"Odisha\", \"Puducherry\", \"Punjab\", \"Rajasthan\", \"Sikkim\", \"Tamil Nadu\", \"Tripura\", \"Uttar Pradesh\", \"Uttarakhand\", \"West Bengal\"], \"y\": [8109, 814059, 6633, 172276, 46214, 5164, 302354, 3430, 1391, 84272, 17363, 330858, 147176, 26562, 14821, 49720, 734825, 538946, 50, 451535, 901945, 2102, 5415, 4154, 1728, 267234, 32144, 46350, 255134, 9606, 818691, 45965, 233352, 18496, 849936]}],\n",
       "                        {\"xaxis\": {\"automargin\": true, \"title\": {\"text\": \"Indian States\"}}, \"yaxis\": {\"automargin\": true, \"title\": {\"text\": \"Suicides count\"}}},\n",
       "                        {\"showLink\": false, \"linkText\": \"Export to plot.ly\", \"plotlyServerURL\": \"https://plot.ly\", \"responsive\": true}\n",
       "                    ).then(function(){\n",
       "                            \n",
       "var gd = document.getElementById('d6446f00-5f68-4b41-a837-e054b0638910');\n",
       "var x = new MutationObserver(function (mutations, observer) {{\n",
       "        var display = window.getComputedStyle(gd).display;\n",
       "        if (!display || display === 'none') {{\n",
       "            console.log([gd, 'removed!']);\n",
       "            Plotly.purge(gd);\n",
       "            observer.disconnect();\n",
       "        }}\n",
       "}});\n",
       "\n",
       "// Listen for the removal of the full notebook cells\n",
       "var notebookContainer = gd.closest('#notebook-container');\n",
       "if (notebookContainer) {{\n",
       "    x.observe(notebookContainer, {childList: true});\n",
       "}}\n",
       "\n",
       "// Listen for the clearing of the current output cell\n",
       "var outputEl = gd.closest('.output');\n",
       "if (outputEl) {{\n",
       "    x.observe(outputEl, {childList: true});\n",
       "}}\n",
       "\n",
       "                        })\n",
       "                };\n",
       "                });\n",
       "            </script>\n",
       "        </div>"
      ]
     },
     "metadata": {},
     "output_type": "display_data"
    }
   ],
   "source": [
    "# Creating bar plot\n",
    "bars = []\n",
    "label = \"Suicides count in Indian States\"\n",
    "bars.append(go.Bar(x=states,\n",
    "                   y=count,\n",
    "                   name=label,\n",
    "                   marker={'color': list(colors.values())}))\n",
    "\n",
    "layout = go.Layout(xaxis = dict(title=dict(text=\"Indian States\"), automargin=True),\n",
    "                   yaxis = dict(title=dict(text=\"Suicides count\"), automargin=True))\n",
    "fig = go.Figure(data=bars, layout = layout)\n",
    "pyo.iplot(fig)\n"
   ]
  },
  {
   "cell_type": "markdown",
   "metadata": {},
   "source": [
    "The above plot tells us clearly that **Maharashtra** stands first in the suicide count.\n",
    "\n",
    "**West Bengal** takes the second place in this category.\n",
    "\n",
    "**Tamil Nadu** takes the third place in this category."
   ]
  },
  {
   "cell_type": "code",
   "execution_count": 128,
   "metadata": {},
   "outputs": [],
   "source": [
    "# Suicides count by year\n",
    "s_year = df.groupby('Year').sum()"
   ]
  },
  {
   "cell_type": "code",
   "execution_count": 129,
   "metadata": {
    "scrolled": true
   },
   "outputs": [
    {
     "data": {
      "application/vnd.plotly.v1+json": {
       "config": {
        "linkText": "Export to plot.ly",
        "plotlyServerURL": "https://plot.ly",
        "showLink": false
       },
       "data": [
        {
         "mode": "lines+markers",
         "name": "lines+markers",
         "type": "scatter",
         "uid": "7f5054c4-2eaf-4993-b2bc-367fe0daf7e2",
         "x": [
          2001,
          2002,
          2003,
          2004,
          2005,
          2006,
          2007,
          2008,
          2009,
          2010,
          2011,
          2012
         ],
         "y": [
          542440,
          551980,
          554218,
          568349,
          569545,
          590543,
          613119,
          625014,
          635429,
          672926,
          677159,
          647288
         ]
        }
       ],
       "layout": {
        "xaxis": {
         "automargin": true,
         "title": {
          "text": "Year"
         }
        },
        "yaxis": {
         "automargin": true,
         "title": {
          "text": "Suicides count"
         }
        }
       }
      },
      "text/html": [
       "<div>\n",
       "        \n",
       "        \n",
       "            <div id=\"3370f32e-288d-4099-90ae-31dbf8aed1d3\" class=\"plotly-graph-div\" style=\"height:525px; width:100%;\"></div>\n",
       "            <script type=\"text/javascript\">\n",
       "                require([\"plotly\"], function(Plotly) {\n",
       "                    window.PLOTLYENV=window.PLOTLYENV || {};\n",
       "                    window.PLOTLYENV.BASE_URL='https://plot.ly';\n",
       "                    \n",
       "                if (document.getElementById(\"3370f32e-288d-4099-90ae-31dbf8aed1d3\")) {\n",
       "                    Plotly.newPlot(\n",
       "                        '3370f32e-288d-4099-90ae-31dbf8aed1d3',\n",
       "                        [{\"mode\": \"lines+markers\", \"name\": \"lines+markers\", \"type\": \"scatter\", \"uid\": \"7f5054c4-2eaf-4993-b2bc-367fe0daf7e2\", \"x\": [2001, 2002, 2003, 2004, 2005, 2006, 2007, 2008, 2009, 2010, 2011, 2012], \"y\": [542440, 551980, 554218, 568349, 569545, 590543, 613119, 625014, 635429, 672926, 677159, 647288]}],\n",
       "                        {\"xaxis\": {\"automargin\": true, \"title\": {\"text\": \"Year\"}}, \"yaxis\": {\"automargin\": true, \"title\": {\"text\": \"Suicides count\"}}},\n",
       "                        {\"showLink\": false, \"linkText\": \"Export to plot.ly\", \"plotlyServerURL\": \"https://plot.ly\", \"responsive\": true}\n",
       "                    ).then(function(){\n",
       "                            \n",
       "var gd = document.getElementById('3370f32e-288d-4099-90ae-31dbf8aed1d3');\n",
       "var x = new MutationObserver(function (mutations, observer) {{\n",
       "        var display = window.getComputedStyle(gd).display;\n",
       "        if (!display || display === 'none') {{\n",
       "            console.log([gd, 'removed!']);\n",
       "            Plotly.purge(gd);\n",
       "            observer.disconnect();\n",
       "        }}\n",
       "}});\n",
       "\n",
       "// Listen for the removal of the full notebook cells\n",
       "var notebookContainer = gd.closest('#notebook-container');\n",
       "if (notebookContainer) {{\n",
       "    x.observe(notebookContainer, {childList: true});\n",
       "}}\n",
       "\n",
       "// Listen for the clearing of the current output cell\n",
       "var outputEl = gd.closest('.output');\n",
       "if (outputEl) {{\n",
       "    x.observe(outputEl, {childList: true});\n",
       "}}\n",
       "\n",
       "                        })\n",
       "                };\n",
       "                });\n",
       "            </script>\n",
       "        </div>"
      ]
     },
     "metadata": {},
     "output_type": "display_data"
    }
   ],
   "source": [
    "# Creating line plot with scatter points\n",
    "x = list(s_year.index)\n",
    "y = list(s_year['Total'])\n",
    "line = go.Scatter(\n",
    "        x = x,\n",
    "        y = y,\n",
    "        mode = 'lines+markers',\n",
    "        name = 'lines+markers'\n",
    ")\n",
    "layout = go.Layout(xaxis = dict(title=dict(text=\"Year\"), automargin=True),\n",
    "                   yaxis = dict(title=dict(text=\"Suicides count\"), automargin=True))\n",
    "fig = go.Figure(data=[line], layout=layout)\n",
    "pyo.iplot(fig)"
   ]
  },
  {
   "cell_type": "markdown",
   "metadata": {},
   "source": [
    "**The above plot clearly shows the growth of suicide rate in years.**"
   ]
  },
  {
   "cell_type": "code",
   "execution_count": 130,
   "metadata": {},
   "outputs": [],
   "source": [
    "# Suicides count by gender\n",
    "s_gender = df.groupby('Gender').sum()\n",
    "s_gender.drop('Year',axis=1,inplace=True)"
   ]
  },
  {
   "cell_type": "code",
   "execution_count": 131,
   "metadata": {},
   "outputs": [
    {
     "data": {
      "application/vnd.plotly.v1+json": {
       "config": {
        "linkText": "Export to plot.ly",
        "plotlyServerURL": "https://plot.ly",
        "showLink": false
       },
       "data": [
        {
         "hoverinfo": "label+percent",
         "labels": [
          "Female",
          "Male"
         ],
         "marker": {
          "colors": [
           "#ff00ff",
           "#00ffff"
          ],
          "line": {
           "color": "#ffffff",
           "width": 2
          }
         },
         "textfont": {
          "size": 20
         },
         "textinfo": "value",
         "title": {
          "text": "Suicide count : 2001-2012"
         },
         "type": "pie",
         "uid": "3b5a181e-f7ed-4be0-a949-45ebbd1086bc",
         "values": [
          2606922,
          4641088
         ]
        }
       ],
       "layout": {}
      },
      "text/html": [
       "<div>\n",
       "        \n",
       "        \n",
       "            <div id=\"70bac4d9-8c0b-44a8-bc30-bd79c5da7188\" class=\"plotly-graph-div\" style=\"height:525px; width:100%;\"></div>\n",
       "            <script type=\"text/javascript\">\n",
       "                require([\"plotly\"], function(Plotly) {\n",
       "                    window.PLOTLYENV=window.PLOTLYENV || {};\n",
       "                    window.PLOTLYENV.BASE_URL='https://plot.ly';\n",
       "                    \n",
       "                if (document.getElementById(\"70bac4d9-8c0b-44a8-bc30-bd79c5da7188\")) {\n",
       "                    Plotly.newPlot(\n",
       "                        '70bac4d9-8c0b-44a8-bc30-bd79c5da7188',\n",
       "                        [{\"hoverinfo\": \"label+percent\", \"labels\": [\"Female\", \"Male\"], \"marker\": {\"colors\": [\"#ff00ff\", \"#00ffff\"], \"line\": {\"color\": \"#ffffff\", \"width\": 2}}, \"textfont\": {\"size\": 20}, \"textinfo\": \"value\", \"title\": {\"text\": \"Suicide count : 2001-2012\"}, \"type\": \"pie\", \"uid\": \"3b5a181e-f7ed-4be0-a949-45ebbd1086bc\", \"values\": [2606922, 4641088]}],\n",
       "                        {},\n",
       "                        {\"showLink\": false, \"linkText\": \"Export to plot.ly\", \"plotlyServerURL\": \"https://plot.ly\", \"responsive\": true}\n",
       "                    ).then(function(){\n",
       "                            \n",
       "var gd = document.getElementById('70bac4d9-8c0b-44a8-bc30-bd79c5da7188');\n",
       "var x = new MutationObserver(function (mutations, observer) {{\n",
       "        var display = window.getComputedStyle(gd).display;\n",
       "        if (!display || display === 'none') {{\n",
       "            console.log([gd, 'removed!']);\n",
       "            Plotly.purge(gd);\n",
       "            observer.disconnect();\n",
       "        }}\n",
       "}});\n",
       "\n",
       "// Listen for the removal of the full notebook cells\n",
       "var notebookContainer = gd.closest('#notebook-container');\n",
       "if (notebookContainer) {{\n",
       "    x.observe(notebookContainer, {childList: true});\n",
       "}}\n",
       "\n",
       "// Listen for the clearing of the current output cell\n",
       "var outputEl = gd.closest('.output');\n",
       "if (outputEl) {{\n",
       "    x.observe(outputEl, {childList: true});\n",
       "}}\n",
       "\n",
       "                        })\n",
       "                };\n",
       "                });\n",
       "            </script>\n",
       "        </div>"
      ]
     },
     "metadata": {},
     "output_type": "display_data"
    }
   ],
   "source": [
    "# Creating a pie chart for male-female ratio of suicides\n",
    "pie = go.Pie(labels=list(s_gender.index), values=list(s_gender['Total']),\n",
    "               hoverinfo='label+percent', textinfo='value', \n",
    "               textfont=dict(size=20),\n",
    "               title=dict(text=\"Suicide count : 2001-2012\"),\n",
    "               marker=dict(colors=['#ff00ff','#00ffff'], \n",
    "                           line=dict(color='#ffffff', width=2)))\n",
    "pyo.iplot([pie])"
   ]
  },
  {
   "cell_type": "markdown",
   "metadata": {},
   "source": [
    "**Two things to infer from the above pie chart.**\n",
    "1. Male in India commits more suicides than the female.\n",
    "2. Female are more stronger than male in terms of inner-strength (mind)."
   ]
  },
  {
   "cell_type": "code",
   "execution_count": 132,
   "metadata": {},
   "outputs": [],
   "source": [
    "# Calculating male-female suicide counts for every year\n",
    "yg = df.groupby(['Year','Gender']).sum()\n",
    "\n",
    "year = list(yg.index.levels[0])\n",
    "gender = list(yg.index.levels[1])\n",
    "\n",
    "female = [int(yg.loc[(i,'Female')].values) for i in year]\n",
    "male = [int(yg.loc[(i,'Male')].values) for i in year]"
   ]
  },
  {
   "cell_type": "code",
   "execution_count": 133,
   "metadata": {},
   "outputs": [
    {
     "data": {
      "application/vnd.plotly.v1+json": {
       "config": {
        "linkText": "Export to plot.ly",
        "plotlyServerURL": "https://plot.ly",
        "showLink": false
       },
       "data": [
        {
         "marker": {
          "color": "#ff00ff"
         },
         "name": "Female",
         "type": "bar",
         "uid": "bb11aab5-deb0-4099-82a6-26318b033c3a",
         "x": [
          2001,
          2002,
          2003,
          2004,
          2005,
          2006,
          2007,
          2008,
          2009,
          2010,
          2011,
          2012
         ],
         "y": [
          210877,
          205335,
          203137,
          205113,
          204988,
          212037,
          216664,
          222310,
          228330,
          237029,
          238704,
          222398
         ]
        },
        {
         "marker": {
          "color": "#00ffff"
         },
         "name": "Male",
         "type": "bar",
         "uid": "aedf2117-6e7d-41c0-805d-68ccb0cfe8cb",
         "x": [
          2001,
          2002,
          2003,
          2004,
          2005,
          2006,
          2007,
          2008,
          2009,
          2010,
          2011,
          2012
         ],
         "y": [
          331563,
          346645,
          351081,
          363236,
          364557,
          378506,
          396455,
          402704,
          407099,
          435897,
          438455,
          424890
         ]
        }
       ],
       "layout": {
        "barmode": "group",
        "xaxis": {
         "automargin": true,
         "tickangle": -45,
         "title": {
          "text": "Years"
         }
        },
        "yaxis": {
         "title": {
          "text": "Suicide count"
         }
        }
       }
      },
      "text/html": [
       "<div>\n",
       "        \n",
       "        \n",
       "            <div id=\"3411bb7c-0cee-4c2e-bf1d-649498b328e2\" class=\"plotly-graph-div\" style=\"height:525px; width:100%;\"></div>\n",
       "            <script type=\"text/javascript\">\n",
       "                require([\"plotly\"], function(Plotly) {\n",
       "                    window.PLOTLYENV=window.PLOTLYENV || {};\n",
       "                    window.PLOTLYENV.BASE_URL='https://plot.ly';\n",
       "                    \n",
       "                if (document.getElementById(\"3411bb7c-0cee-4c2e-bf1d-649498b328e2\")) {\n",
       "                    Plotly.newPlot(\n",
       "                        '3411bb7c-0cee-4c2e-bf1d-649498b328e2',\n",
       "                        [{\"marker\": {\"color\": \"#ff00ff\"}, \"name\": \"Female\", \"type\": \"bar\", \"uid\": \"bb11aab5-deb0-4099-82a6-26318b033c3a\", \"x\": [2001, 2002, 2003, 2004, 2005, 2006, 2007, 2008, 2009, 2010, 2011, 2012], \"y\": [210877, 205335, 203137, 205113, 204988, 212037, 216664, 222310, 228330, 237029, 238704, 222398]}, {\"marker\": {\"color\": \"#00ffff\"}, \"name\": \"Male\", \"type\": \"bar\", \"uid\": \"aedf2117-6e7d-41c0-805d-68ccb0cfe8cb\", \"x\": [2001, 2002, 2003, 2004, 2005, 2006, 2007, 2008, 2009, 2010, 2011, 2012], \"y\": [331563, 346645, 351081, 363236, 364557, 378506, 396455, 402704, 407099, 435897, 438455, 424890]}],\n",
       "                        {\"barmode\": \"group\", \"xaxis\": {\"automargin\": true, \"tickangle\": -45, \"title\": {\"text\": \"Years\"}}, \"yaxis\": {\"title\": {\"text\": \"Suicide count\"}}},\n",
       "                        {\"showLink\": false, \"linkText\": \"Export to plot.ly\", \"plotlyServerURL\": \"https://plot.ly\", \"responsive\": true}\n",
       "                    ).then(function(){\n",
       "                            \n",
       "var gd = document.getElementById('3411bb7c-0cee-4c2e-bf1d-649498b328e2');\n",
       "var x = new MutationObserver(function (mutations, observer) {{\n",
       "        var display = window.getComputedStyle(gd).display;\n",
       "        if (!display || display === 'none') {{\n",
       "            console.log([gd, 'removed!']);\n",
       "            Plotly.purge(gd);\n",
       "            observer.disconnect();\n",
       "        }}\n",
       "}});\n",
       "\n",
       "// Listen for the removal of the full notebook cells\n",
       "var notebookContainer = gd.closest('#notebook-container');\n",
       "if (notebookContainer) {{\n",
       "    x.observe(notebookContainer, {childList: true});\n",
       "}}\n",
       "\n",
       "// Listen for the clearing of the current output cell\n",
       "var outputEl = gd.closest('.output');\n",
       "if (outputEl) {{\n",
       "    x.observe(outputEl, {childList: true});\n",
       "}}\n",
       "\n",
       "                        })\n",
       "                };\n",
       "                });\n",
       "            </script>\n",
       "        </div>"
      ]
     },
     "metadata": {},
     "output_type": "display_data"
    }
   ],
   "source": [
    "# Creating two bars\n",
    "# Creating grouped bar plot for male-female suicide counts by year\n",
    "bar1 = go.Bar(\n",
    "    x = year,\n",
    "    y = female,\n",
    "    name = 'Female',\n",
    "    marker = dict(color='#ff00ff')\n",
    ")\n",
    "bar2 = go.Bar(\n",
    "    x = year,\n",
    "    y = male,\n",
    "    name = 'Male',\n",
    "    marker = dict(color='#00ffff')\n",
    ")\n",
    "final = [bar1,bar2]\n",
    "layout = go.Layout(\n",
    "    xaxis = dict(tickangle=-45, title=dict(text='Years'), automargin=True),\n",
    "    yaxis = dict(title=dict(text='Suicide count')),\n",
    "    barmode = 'group'\n",
    ")\n",
    "fig = go.Figure(data=final, layout=layout)\n",
    "pyo.iplot(fig)"
   ]
  },
  {
   "cell_type": "markdown",
   "metadata": {},
   "source": [
    "**Finally, we can conclude that in the years 2001-2012, a large number of male committed suicide and that rate is only increased.**"
   ]
  }
 ],
 "metadata": {
  "kernelspec": {
   "display_name": "Python 3",
   "language": "python",
   "name": "python3"
  },
  "language_info": {
   "codemirror_mode": {
    "name": "ipython",
    "version": 3
   },
   "file_extension": ".py",
   "mimetype": "text/x-python",
   "name": "python",
   "nbconvert_exporter": "python",
   "pygments_lexer": "ipython3",
   "version": "3.7.3"
  }
 },
 "nbformat": 4,
 "nbformat_minor": 2
}
